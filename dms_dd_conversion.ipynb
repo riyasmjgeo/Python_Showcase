{
 "cells": [
  {
   "cell_type": "markdown",
   "id": "00821b8a",
   "metadata": {},
   "source": [
    "### DMS to DD"
   ]
  },
  {
   "cell_type": "code",
   "execution_count": 10,
   "id": "1f0dcbb0",
   "metadata": {},
   "outputs": [
    {
     "name": "stdout",
     "output_type": "stream",
     "text": [
      "[17.057750000000002, 17.069477777777777, 17.083175, 17.169583333333335]\n"
     ]
    }
   ],
   "source": [
    "deg = 17\n",
    "min = [3,4,4,10]\n",
    "sec = [27.90,10.12,59.43, 10.50]\n",
    "dd= []\n",
    "length = len(min)\n",
    "for i in range(length):\n",
    "    decdeg = deg+(min[i]/60)+(sec[i]/3600)\n",
    "    dd.append(decdeg)\n",
    "print(dd)"
   ]
  },
  {
   "cell_type": "code",
   "execution_count": null,
   "id": "cbf50a8f",
   "metadata": {},
   "outputs": [],
   "source": []
  },
  {
   "cell_type": "markdown",
   "id": "c2e499ae",
   "metadata": {},
   "source": [
    "### DD to DMS\n"
   ]
  },
  {
   "cell_type": "code",
   "execution_count": 25,
   "id": "d8d0e020",
   "metadata": {},
   "outputs": [
    {
     "name": "stdout",
     "output_type": "stream",
     "text": [
      "18 deg  38 min  42.8316 secs\n",
      "35 deg  28 min  35.18328 secs\n"
     ]
    }
   ],
   "source": [
    "dd = [18.645231, 35.4764398]\n",
    "deg = []\n",
    "mins = []\n",
    "sec = []\n",
    "\n",
    "for item in dd:\n",
    "    dg = int(item)\n",
    "    deg.append(dg)\n",
    "    min_sec = (item-dg)*60\n",
    "    mn = int(min_sec)\n",
    "    mins.append(mn)\n",
    "    sc = round((min_sec-mn)*60,5)       # precision of seconds\n",
    "    sec.append(sc)\n",
    "for j in range(len(mins)):\n",
    "    print(\"{0} deg  {1} min  {2} secs\".format(deg[j], mins[j], sec[j]))"
   ]
  },
  {
   "cell_type": "code",
   "execution_count": 21,
   "id": "1e5f0108",
   "metadata": {},
   "outputs": [
    {
     "data": {
      "text/plain": [
       "42.8316"
      ]
     },
     "execution_count": 21,
     "metadata": {},
     "output_type": "execute_result"
    }
   ],
   "source": [
    "n=42.8315999999964\n",
    "round(n,5)"
   ]
  }
 ],
 "metadata": {
  "kernelspec": {
   "display_name": "Python 3 (ipykernel)",
   "language": "python",
   "name": "python3"
  },
  "language_info": {
   "codemirror_mode": {
    "name": "ipython",
    "version": 3
   },
   "file_extension": ".py",
   "mimetype": "text/x-python",
   "name": "python",
   "nbconvert_exporter": "python",
   "pygments_lexer": "ipython3",
   "version": "3.7.11"
  }
 },
 "nbformat": 4,
 "nbformat_minor": 5
}
