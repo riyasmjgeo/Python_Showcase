{
 "cells": [
  {
   "cell_type": "code",
   "execution_count": null,
   "metadata": {},
   "outputs": [],
   "source": [
    "import matplotlib.pyplot as plt\n",
    "import pandas as pd"
   ]
  },
  {
   "cell_type": "code",
   "execution_count": null,
   "metadata": {},
   "outputs": [],
   "source": [
    "df = pd.read_csv(r\"C:\\Users\\Xplorer\\Desktop\\ITF_transport_2009_19.csv\")\n",
    "years = df['year']\n",
    "keys = df.keys().values"
   ]
  },
  {
   "cell_type": "code",
   "execution_count": null,
   "metadata": {},
   "outputs": [],
   "source": [
    "fig = plt.figure(figsize=(25,25), constrained_layout = True)\n",
    "i=0\n",
    "for count in range(1, len(keys), 2):\n",
    "    i +=1  \n",
    "    ## Divide the ploting space into 5x3. Then the graph position\n",
    "    axis = fig.add_subplot(5,3,i)\n",
    "    graph = df.plot(x='year', y= [keys[count],keys[count+1]], kind = 'bar', ax = axis, legend=None)\n",
    "    # Removing the unwanted number in the column titles\n",
    "    graph_title = keys[count][:-1]\n",
    "    graph.set_title(graph_title, loc = 'center')\n",
    "plt.savefig(r'C:\\Users\\Xplorer\\Documents\\temp\\xx.svg', dpi=350, title=keys[count])"
   ]
  }
 ],
 "metadata": {
  "interpreter": {
   "hash": "a196e78575c6216d908af46aab4d0a6e8cc402d182227106e0849cc418b0022a"
  },
  "kernelspec": {
   "display_name": "Python 3.6.13 64-bit ('delete': conda)",
   "language": "python",
   "name": "python3"
  },
  "language_info": {
   "codemirror_mode": {
    "name": "ipython",
    "version": 3
   },
   "file_extension": ".py",
   "mimetype": "text/x-python",
   "name": "python",
   "nbconvert_exporter": "python",
   "pygments_lexer": "ipython3",
   "version": "3.7.11"
  },
  "orig_nbformat": 4
 },
 "nbformat": 4,
 "nbformat_minor": 2
}
